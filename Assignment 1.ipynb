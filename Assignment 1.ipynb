{
 "cells": [
  {
   "cell_type": "markdown",
   "metadata": {},
   "source": [
    " #### 1. Write a program which will find all such numbers which are divisible by 7 but are not a multiple of 5, between 2000 and 3200 (both included). The numbers obtained should be printed in a comma-separated sequence on a single line."
   ]
  },
  {
   "cell_type": "code",
   "execution_count": 14,
   "metadata": {},
   "outputs": [
    {
     "name": "stdout",
     "output_type": "stream",
     "text": [
      "2002,2009,2016,2023,2037,2044,2051,2058,2072,2079,2086,2093,2107,2114,2121,2128,2142,2149,2156,2163,2177,2184,2191,2198,2212,2219,2226,2233,2247,2254,2261,2268,2282,2289,2296,2303,2317,2324,2331,2338,2352,2359,2366,2373,2387,2394,2401,2408,2422,2429,2436,2443,2457,2464,2471,2478,2492,2499,2506,2513,2527,2534,2541,2548,2562,2569,2576,2583,2597,2604,2611,2618,2632,2639,2646,2653,2667,2674,2681,2688,2702,2709,2716,2723,2737,2744,2751,2758,2772,2779,2786,2793,2807,2814,2821,2828,2842,2849,2856,2863,2877,2884,2891,2898,2912,2919,2926,2933,2947,2954,2961,2968,2982,2989,2996,3003,3017,3024,3031,3038,3052,3059,3066,3073,3087,3094,3101,3108,3122,3129,3136,3143,3157,3164,3171,3178,3192,3199,"
     ]
    }
   ],
   "source": [
    "for num in range(2000,3201):\n",
    "    if (num % 7 == 0) and (num % 5 != 0):\n",
    "        print(num,end=\",\")\n",
    "\n",
    "# 3201 because range function is fron x to x-1        "
   ]
  },
  {
   "cell_type": "markdown",
   "metadata": {},
   "source": [
    "#### 2 .Write a Python program to accept the user's first and last name and then getting them printed in the the reverse order with a space between first name and last name."
   ]
  },
  {
   "cell_type": "code",
   "execution_count": 21,
   "metadata": {},
   "outputs": [
    {
     "name": "stdout",
     "output_type": "stream",
     "text": [
      "Enter First Name: Deepak\n",
      "Enter Last Name: Sawant\n",
      "kapeeD tnawaS\n"
     ]
    }
   ],
   "source": [
    "def reverse_string(x):\n",
    "    \n",
    "    \"\"\"\n",
    "        Reverse the string\n",
    "        \n",
    "        Parameters:\n",
    "        x(str): Name of the string to be reversed\n",
    "    \n",
    "        Returns:\n",
    "        Returns reverse of a string\n",
    "        \n",
    "        Examples:\n",
    "        >>Enter First Name: Deepak\n",
    "        >>Enter Last Name: Sawant\n",
    "        >>kapeeD tnawaS\n",
    "    \"\"\"\n",
    "\n",
    "    return x[::-1]\n",
    "    \n",
    "    \n",
    "first_name = input(\"Enter First Name: \")\n",
    "last_name = input(\"Enter Last Name: \")\n",
    "     \n",
    "print(reverse_string(first_name),reverse_string(last_name))"
   ]
  },
  {
   "cell_type": "markdown",
   "metadata": {},
   "source": [
    "#### 3. Write a Python program to find the volume of a sphere with diameter 12 cm.\n",
    "Formula: V=4/3 * π * r<sup>3</sup>"
   ]
  },
  {
   "cell_type": "code",
   "execution_count": 39,
   "metadata": {},
   "outputs": [
    {
     "name": "stdout",
     "output_type": "stream",
     "text": [
      "Enter Diameter of a sphere: 12\n",
      "Volume of sphere is: 904.78\n"
     ]
    }
   ],
   "source": [
    "from math import pi\n",
    "\n",
    "def vol_of_sphere(d):\n",
    "    \"\"\"\n",
    "    Volume of sphere using diameter(cm)\n",
    "    \n",
    "    Parameters: \n",
    "    d(int): Diameter of sphere in cm\n",
    "    \n",
    "    Returns: \n",
    "    Returns volume of a sphere\n",
    "    \n",
    "    Examples:\n",
    "    >>Enter Diameter of a sphere: 12\n",
    "    >>904.7786842338603\n",
    "    \n",
    "    \"\"\"\n",
    "    \n",
    "    #math.pi need to be imported\n",
    "    \n",
    "    r = d/2    #Radius\n",
    "    return (4/3)*pi*r**3\n",
    "\n",
    "\n",
    "d = int(input(\"Enter Diameter of a sphere: \"))\n",
    "print(\"Volume of sphere is: {:.2f}\".format(vol_of_sphere(d)))"
   ]
  },
  {
   "cell_type": "code",
   "execution_count": null,
   "metadata": {},
   "outputs": [],
   "source": []
  }
 ],
 "metadata": {
  "kernelspec": {
   "display_name": "Python 3",
   "language": "python",
   "name": "python3"
  },
  "language_info": {
   "codemirror_mode": {
    "name": "ipython",
    "version": 3
   },
   "file_extension": ".py",
   "mimetype": "text/x-python",
   "name": "python",
   "nbconvert_exporter": "python",
   "pygments_lexer": "ipython3",
   "version": "3.6.4"
  }
 },
 "nbformat": 4,
 "nbformat_minor": 2
}
